{
  "cells": [
    {
      "cell_type": "markdown",
      "metadata": {},
      "source": [
        "**General Features of the Data**"
      ]
    },
    {
      "cell_type": "code",
      "execution_count": 11,
      "metadata": {},
      "outputs": [
        {
          "name": "stderr",
          "output_type": "stream",
          "text": [
            "/Users/yagmur/opt/anaconda3/lib/python3.9/site-packages/IPython/core/interactiveshell.py:3444: DtypeWarning: Columns (6) have mixed types.Specify dtype option on import or set low_memory=False.\n",
            "  exec(code_obj, self.user_global_ns, self.user_ns)\n"
          ]
        },
        {
          "name": "stdout",
          "output_type": "stream",
          "text": [
            "Total row count in games details is 645953.\n",
            "Total column count in games details is 29.\n"
          ]
        }
      ],
      "source": [
        "import pandas as pd\n",
        "import numpy as np\n",
        "from matplotlib import pyplot as plt\n",
        "\n",
        "df1 = pd.read_csv('games_details.csv')\n",
        "df2 = pd.read_csv('games.csv')\n",
        "df3 = pd.read_csv('players.csv')\n",
        "df4 = pd.read_csv('ranking.csv')\n",
        "df5 = pd.read_csv('teams.csv')\n",
        "\n",
        "#finding row and column counts\n",
        "count = df1.shape\n",
        "row_count = count[0]\n",
        "print(f\"Total row count in games details is {row_count}.\")\n",
        "column_count = count[1]\n",
        "print(f\"Total column count in games details is {column_count}.\")"
      ]
    },
    {
      "cell_type": "code",
      "execution_count": 12,
      "metadata": {},
      "outputs": [
        {
          "data": {
            "text/html": [
              "<div>\n",
              "<style scoped>\n",
              "    .dataframe tbody tr th:only-of-type {\n",
              "        vertical-align: middle;\n",
              "    }\n",
              "\n",
              "    .dataframe tbody tr th {\n",
              "        vertical-align: top;\n",
              "    }\n",
              "\n",
              "    .dataframe thead th {\n",
              "        text-align: right;\n",
              "    }\n",
              "</style>\n",
              "<table border=\"1\" class=\"dataframe\">\n",
              "  <thead>\n",
              "    <tr style=\"text-align: right;\">\n",
              "      <th></th>\n",
              "      <th>GAME_ID</th>\n",
              "      <th>TEAM_ID</th>\n",
              "      <th>PLAYER_ID</th>\n",
              "      <th>Field Goals Made</th>\n",
              "      <th>Field Goals Attempted</th>\n",
              "      <th>Field Goals Percentage</th>\n",
              "      <th>Three-point Field Goals Made</th>\n",
              "      <th>Three-point Field Goals Attempted</th>\n",
              "      <th>Three-point Field Goals Percentage</th>\n",
              "      <th>Free Throws Made</th>\n",
              "      <th>...</th>\n",
              "      <th>Field Goals Made</th>\n",
              "      <th>Field Goals Attempted</th>\n",
              "      <th>Rebounds</th>\n",
              "      <th>Assists</th>\n",
              "      <th>Steals</th>\n",
              "      <th>Blocks</th>\n",
              "      <th>Turnovers</th>\n",
              "      <th>Personel Fouls</th>\n",
              "      <th>Points</th>\n",
              "      <th>Players Impact</th>\n",
              "    </tr>\n",
              "  </thead>\n",
              "  <tbody>\n",
              "    <tr>\n",
              "      <th>count</th>\n",
              "      <td>6.459530e+05</td>\n",
              "      <td>6.459530e+05</td>\n",
              "      <td>6.459530e+05</td>\n",
              "      <td>540350.000000</td>\n",
              "      <td>540350.000000</td>\n",
              "      <td>540350.000000</td>\n",
              "      <td>540350.000000</td>\n",
              "      <td>540350.000000</td>\n",
              "      <td>540350.000000</td>\n",
              "      <td>540350.000000</td>\n",
              "      <td>...</td>\n",
              "      <td>540350.000000</td>\n",
              "      <td>540350.000000</td>\n",
              "      <td>540350.000000</td>\n",
              "      <td>540350.000000</td>\n",
              "      <td>540350.000000</td>\n",
              "      <td>540350.000000</td>\n",
              "      <td>540350.000000</td>\n",
              "      <td>540350.000000</td>\n",
              "      <td>540350.000000</td>\n",
              "      <td>516689.000000</td>\n",
              "    </tr>\n",
              "    <tr>\n",
              "      <th>mean</th>\n",
              "      <td>2.165952e+07</td>\n",
              "      <td>1.610613e+09</td>\n",
              "      <td>3.716935e+05</td>\n",
              "      <td>3.582408</td>\n",
              "      <td>7.891298</td>\n",
              "      <td>0.416203</td>\n",
              "      <td>0.765731</td>\n",
              "      <td>2.151618</td>\n",
              "      <td>0.199166</td>\n",
              "      <td>1.734931</td>\n",
              "      <td>...</td>\n",
              "      <td>1.026770</td>\n",
              "      <td>3.032875</td>\n",
              "      <td>4.059645</td>\n",
              "      <td>2.097692</td>\n",
              "      <td>0.722541</td>\n",
              "      <td>0.461377</td>\n",
              "      <td>1.321897</td>\n",
              "      <td>2.003018</td>\n",
              "      <td>9.665469</td>\n",
              "      <td>-0.000505</td>\n",
              "    </tr>\n",
              "    <tr>\n",
              "      <th>std</th>\n",
              "      <td>5.569116e+06</td>\n",
              "      <td>8.650314e+00</td>\n",
              "      <td>7.348620e+06</td>\n",
              "      <td>3.023962</td>\n",
              "      <td>5.665752</td>\n",
              "      <td>0.251634</td>\n",
              "      <td>1.216917</td>\n",
              "      <td>2.547737</td>\n",
              "      <td>0.289447</td>\n",
              "      <td>2.353475</td>\n",
              "      <td>...</td>\n",
              "      <td>1.400243</td>\n",
              "      <td>2.687996</td>\n",
              "      <td>3.486507</td>\n",
              "      <td>2.473238</td>\n",
              "      <td>0.973573</td>\n",
              "      <td>0.863525</td>\n",
              "      <td>1.402182</td>\n",
              "      <td>1.503081</td>\n",
              "      <td>8.056629</td>\n",
              "      <td>10.640185</td>\n",
              "    </tr>\n",
              "    <tr>\n",
              "      <th>min</th>\n",
              "      <td>1.030000e+07</td>\n",
              "      <td>1.610613e+09</td>\n",
              "      <td>1.500000e+01</td>\n",
              "      <td>0.000000</td>\n",
              "      <td>0.000000</td>\n",
              "      <td>0.000000</td>\n",
              "      <td>0.000000</td>\n",
              "      <td>0.000000</td>\n",
              "      <td>0.000000</td>\n",
              "      <td>0.000000</td>\n",
              "      <td>...</td>\n",
              "      <td>0.000000</td>\n",
              "      <td>0.000000</td>\n",
              "      <td>0.000000</td>\n",
              "      <td>0.000000</td>\n",
              "      <td>0.000000</td>\n",
              "      <td>0.000000</td>\n",
              "      <td>0.000000</td>\n",
              "      <td>0.000000</td>\n",
              "      <td>0.000000</td>\n",
              "      <td>-57.000000</td>\n",
              "    </tr>\n",
              "    <tr>\n",
              "      <th>25%</th>\n",
              "      <td>2.060113e+07</td>\n",
              "      <td>1.610613e+09</td>\n",
              "      <td>2.435000e+03</td>\n",
              "      <td>1.000000</td>\n",
              "      <td>3.000000</td>\n",
              "      <td>0.263000</td>\n",
              "      <td>0.000000</td>\n",
              "      <td>0.000000</td>\n",
              "      <td>0.000000</td>\n",
              "      <td>0.000000</td>\n",
              "      <td>...</td>\n",
              "      <td>0.000000</td>\n",
              "      <td>1.000000</td>\n",
              "      <td>1.000000</td>\n",
              "      <td>0.000000</td>\n",
              "      <td>0.000000</td>\n",
              "      <td>0.000000</td>\n",
              "      <td>0.000000</td>\n",
              "      <td>1.000000</td>\n",
              "      <td>3.000000</td>\n",
              "      <td>-7.000000</td>\n",
              "    </tr>\n",
              "    <tr>\n",
              "      <th>50%</th>\n",
              "      <td>2.120062e+07</td>\n",
              "      <td>1.610613e+09</td>\n",
              "      <td>2.011560e+05</td>\n",
              "      <td>3.000000</td>\n",
              "      <td>7.000000</td>\n",
              "      <td>0.429000</td>\n",
              "      <td>0.000000</td>\n",
              "      <td>1.000000</td>\n",
              "      <td>0.000000</td>\n",
              "      <td>1.000000</td>\n",
              "      <td>...</td>\n",
              "      <td>1.000000</td>\n",
              "      <td>2.000000</td>\n",
              "      <td>3.000000</td>\n",
              "      <td>1.000000</td>\n",
              "      <td>0.000000</td>\n",
              "      <td>0.000000</td>\n",
              "      <td>1.000000</td>\n",
              "      <td>2.000000</td>\n",
              "      <td>8.000000</td>\n",
              "      <td>0.000000</td>\n",
              "    </tr>\n",
              "    <tr>\n",
              "      <th>75%</th>\n",
              "      <td>2.170079e+07</td>\n",
              "      <td>1.610613e+09</td>\n",
              "      <td>2.031240e+05</td>\n",
              "      <td>5.000000</td>\n",
              "      <td>11.000000</td>\n",
              "      <td>0.571000</td>\n",
              "      <td>1.000000</td>\n",
              "      <td>4.000000</td>\n",
              "      <td>0.375000</td>\n",
              "      <td>3.000000</td>\n",
              "      <td>...</td>\n",
              "      <td>2.000000</td>\n",
              "      <td>4.000000</td>\n",
              "      <td>6.000000</td>\n",
              "      <td>3.000000</td>\n",
              "      <td>1.000000</td>\n",
              "      <td>1.000000</td>\n",
              "      <td>2.000000</td>\n",
              "      <td>3.000000</td>\n",
              "      <td>14.000000</td>\n",
              "      <td>6.000000</td>\n",
              "    </tr>\n",
              "    <tr>\n",
              "      <th>max</th>\n",
              "      <td>5.200021e+07</td>\n",
              "      <td>1.610613e+09</td>\n",
              "      <td>1.962938e+09</td>\n",
              "      <td>28.000000</td>\n",
              "      <td>50.000000</td>\n",
              "      <td>1.000000</td>\n",
              "      <td>14.000000</td>\n",
              "      <td>24.000000</td>\n",
              "      <td>1.000000</td>\n",
              "      <td>26.000000</td>\n",
              "      <td>...</td>\n",
              "      <td>18.000000</td>\n",
              "      <td>25.000000</td>\n",
              "      <td>31.000000</td>\n",
              "      <td>25.000000</td>\n",
              "      <td>10.000000</td>\n",
              "      <td>12.000000</td>\n",
              "      <td>12.000000</td>\n",
              "      <td>15.000000</td>\n",
              "      <td>81.000000</td>\n",
              "      <td>57.000000</td>\n",
              "    </tr>\n",
              "  </tbody>\n",
              "</table>\n",
              "<p>8 rows × 22 columns</p>\n",
              "</div>"
            ],
            "text/plain": [
              "            GAME_ID       TEAM_ID     PLAYER_ID  Field Goals Made  \\\n",
              "count  6.459530e+05  6.459530e+05  6.459530e+05     540350.000000   \n",
              "mean   2.165952e+07  1.610613e+09  3.716935e+05          3.582408   \n",
              "std    5.569116e+06  8.650314e+00  7.348620e+06          3.023962   \n",
              "min    1.030000e+07  1.610613e+09  1.500000e+01          0.000000   \n",
              "25%    2.060113e+07  1.610613e+09  2.435000e+03          1.000000   \n",
              "50%    2.120062e+07  1.610613e+09  2.011560e+05          3.000000   \n",
              "75%    2.170079e+07  1.610613e+09  2.031240e+05          5.000000   \n",
              "max    5.200021e+07  1.610613e+09  1.962938e+09         28.000000   \n",
              "\n",
              "       Field Goals Attempted  Field Goals Percentage  \\\n",
              "count          540350.000000           540350.000000   \n",
              "mean                7.891298                0.416203   \n",
              "std                 5.665752                0.251634   \n",
              "min                 0.000000                0.000000   \n",
              "25%                 3.000000                0.263000   \n",
              "50%                 7.000000                0.429000   \n",
              "75%                11.000000                0.571000   \n",
              "max                50.000000                1.000000   \n",
              "\n",
              "       Three-point Field Goals Made  Three-point Field Goals Attempted  \\\n",
              "count                 540350.000000                      540350.000000   \n",
              "mean                       0.765731                           2.151618   \n",
              "std                        1.216917                           2.547737   \n",
              "min                        0.000000                           0.000000   \n",
              "25%                        0.000000                           0.000000   \n",
              "50%                        0.000000                           1.000000   \n",
              "75%                        1.000000                           4.000000   \n",
              "max                       14.000000                          24.000000   \n",
              "\n",
              "       Three-point Field Goals Percentage  Free Throws Made  ...  \\\n",
              "count                       540350.000000     540350.000000  ...   \n",
              "mean                             0.199166          1.734931  ...   \n",
              "std                              0.289447          2.353475  ...   \n",
              "min                              0.000000          0.000000  ...   \n",
              "25%                              0.000000          0.000000  ...   \n",
              "50%                              0.000000          1.000000  ...   \n",
              "75%                              0.375000          3.000000  ...   \n",
              "max                              1.000000         26.000000  ...   \n",
              "\n",
              "       Field Goals Made  Field Goals Attempted       Rebounds        Assists  \\\n",
              "count     540350.000000          540350.000000  540350.000000  540350.000000   \n",
              "mean           1.026770               3.032875       4.059645       2.097692   \n",
              "std            1.400243               2.687996       3.486507       2.473238   \n",
              "min            0.000000               0.000000       0.000000       0.000000   \n",
              "25%            0.000000               1.000000       1.000000       0.000000   \n",
              "50%            1.000000               2.000000       3.000000       1.000000   \n",
              "75%            2.000000               4.000000       6.000000       3.000000   \n",
              "max           18.000000              25.000000      31.000000      25.000000   \n",
              "\n",
              "              Steals         Blocks      Turnovers  Personel Fouls  \\\n",
              "count  540350.000000  540350.000000  540350.000000   540350.000000   \n",
              "mean        0.722541       0.461377       1.321897        2.003018   \n",
              "std         0.973573       0.863525       1.402182        1.503081   \n",
              "min         0.000000       0.000000       0.000000        0.000000   \n",
              "25%         0.000000       0.000000       0.000000        1.000000   \n",
              "50%         0.000000       0.000000       1.000000        2.000000   \n",
              "75%         1.000000       1.000000       2.000000        3.000000   \n",
              "max        10.000000      12.000000      12.000000       15.000000   \n",
              "\n",
              "              Points  Players Impact  \n",
              "count  540350.000000   516689.000000  \n",
              "mean        9.665469       -0.000505  \n",
              "std         8.056629       10.640185  \n",
              "min         0.000000      -57.000000  \n",
              "25%         3.000000       -7.000000  \n",
              "50%         8.000000        0.000000  \n",
              "75%        14.000000        6.000000  \n",
              "max        81.000000       57.000000  \n",
              "\n",
              "[8 rows x 22 columns]"
            ]
          },
          "execution_count": 12,
          "metadata": {},
          "output_type": "execute_result"
        }
      ],
      "source": [
        "#changing column names and showing the general info\n",
        "df1.columns = [\"GAME_ID\", \"TEAM_ID\", \"TEAM_CODE\", \"TEAM_CITY\", \"PLAYER_ID\", \"PLAYER_NAME\", \"Nickname\", \"Starting Position\", \"Comment\", \"Minutes\", \"Field Goals Made\", \"Field Goals Attempted\", \"Field Goals Percentage\", \"Three-point Field Goals Made\", \"Three-point Field Goals Attempted\", \"Three-point Field Goals Percentage\",  \"Free Throws Made\", \"Free Throws Attempted\", \"Free Throws Percentage\", \"Field Goals Made\", \"Field Goals Attempted\", \"Rebounds\", \"Assists\", \"Steals\", \"Blocks\", \"Turnovers\", \"Personel Fouls\", \"Points\", \"Players Impact\"]\n",
        "df1.describe() "
      ]
    },
    {
      "cell_type": "code",
      "execution_count": 3,
      "metadata": {},
      "outputs": [
        {
          "name": "stdout",
          "output_type": "stream",
          "text": [
            "Data consists of the seasons between 2009 and 2019.\n"
          ]
        }
      ],
      "source": [
        "seasons = df3.SEASON.unique()\n",
        "print(f\"Data consists of the seasons between {seasons[-1]} and {seasons[0]}.\")"
      ]
    },
    {
      "cell_type": "markdown",
      "metadata": {},
      "source": [
        "**Detecting and Changing NaN Values/Empty Cells**"
      ]
    },
    {
      "cell_type": "code",
      "execution_count": 4,
      "metadata": {},
      "outputs": [
        {
          "data": {
            "text/plain": [
              "GAME_ID                                    0\n",
              "TEAM_ID                                    0\n",
              "TEAM_CODE                                  0\n",
              "TEAM_CITY                                  0\n",
              "PLAYER_ID                                  0\n",
              "PLAYER_NAME                                0\n",
              "Nickname                              615591\n",
              "Starting Position                     398738\n",
              "Comment                               540351\n",
              "Minutes                               105603\n",
              "Field Goals Made                      105603\n",
              "Field Goals Attempted                 105603\n",
              "Field Goals Percentage                105603\n",
              "Three-point Field Goals Made          105603\n",
              "Three-point Field Goals Attempted     105603\n",
              "Three-point Field Goals Percentage    105603\n",
              "Free Throws Made                      105603\n",
              "Free Throws Attempted                 105603\n",
              "Free Throws Percentage                105603\n",
              "Field Goals Made                      105603\n",
              "Field Goals Attempted                 105603\n",
              "Rebounds                              105603\n",
              "Assists                               105603\n",
              "Steals                                105603\n",
              "Blocks                                105603\n",
              "Turnovers                             105603\n",
              "Personel Fouls                        105603\n",
              "Points                                105603\n",
              "Players Impact                        129264\n",
              "dtype: int64"
            ]
          },
          "execution_count": 4,
          "metadata": {},
          "output_type": "execute_result"
        }
      ],
      "source": [
        "#finding the empty values in data sets\n",
        "df1.isnull().sum() \n",
        "#df2.isnull().sum() \n",
        "#df3.isnull().sum() \n",
        "#df4.isnull().sum() \n",
        "#df5.isnull().sum() "
      ]
    },
    {
      "cell_type": "code",
      "execution_count": 5,
      "metadata": {},
      "outputs": [
        {
          "name": "stdout",
          "output_type": "stream",
          "text": [
            "   Minutes  Field Goals Made  Field Goals Attempted  Field Goals Percentage  \\\n",
            "0    36:22               4.0                   10.0                   0.400   \n",
            "1    23:54               6.0                    8.0                   0.750   \n",
            "2    25:17               4.0                    9.0                   0.444   \n",
            "3    30:52               4.0                    9.0                   0.444   \n",
            "4    33:46               3.0                   13.0                   0.231   \n",
            "5    23:56               3.0                    8.0                   0.375   \n",
            "6    21:00               2.0                    5.0                   0.400   \n",
            "7    21:35               6.0                   13.0                   0.462   \n",
            "8    22:53               3.0                    8.0                   0.375   \n",
            "9     0:25               0.0                    0.0                   0.000   \n",
            "10       0               0.0                    0.0                   0.000   \n",
            "11       0               0.0                    0.0                   0.000   \n",
            "12       0               0.0                    0.0                   0.000   \n",
            "\n",
            "    Three-point Field Goals Made  Three-point Field Goals Attempted  \\\n",
            "0                            3.0                                8.0   \n",
            "1                            1.0                                3.0   \n",
            "2                            1.0                                3.0   \n",
            "3                            4.0                                9.0   \n",
            "4                            1.0                                6.0   \n",
            "5                            1.0                                2.0   \n",
            "6                            0.0                                1.0   \n",
            "7                            2.0                                5.0   \n",
            "8                            2.0                                5.0   \n",
            "9                            0.0                                0.0   \n",
            "10                           0.0                                0.0   \n",
            "11                           0.0                                0.0   \n",
            "12                           0.0                                0.0   \n",
            "\n",
            "    Three-point Field Goals Percentage  Free Throws Made  \\\n",
            "0                                0.375               4.0   \n",
            "1                                0.333               1.0   \n",
            "2                                0.333               6.0   \n",
            "3                                0.444               0.0   \n",
            "4                                0.167               7.0   \n",
            "5                                0.500               4.0   \n",
            "6                                0.000               1.0   \n",
            "7                                0.400               2.0   \n",
            "8                                0.400               3.0   \n",
            "9                                0.000               0.0   \n",
            "10                               0.000               0.0   \n",
            "11                               0.000               0.0   \n",
            "12                               0.000               0.0   \n",
            "\n",
            "    Free Throws Attempted  Free Throws Percentage  Field Goals Made  \\\n",
            "0                     4.0                    1.00               0.0   \n",
            "1                     1.0                    1.00               2.0   \n",
            "2                     8.0                    0.75               1.0   \n",
            "3                     0.0                    0.00               0.0   \n",
            "4                     7.0                    1.00               0.0   \n",
            "5                     4.0                    1.00               3.0   \n",
            "6                     1.0                    1.00               0.0   \n",
            "7                     2.0                    1.00               0.0   \n",
            "8                     5.0                    0.60               0.0   \n",
            "9                     0.0                    0.00               0.0   \n",
            "10                    0.0                    0.00               0.0   \n",
            "11                    0.0                    0.00               0.0   \n",
            "12                    0.0                    0.00               0.0   \n",
            "\n",
            "    Field Goals Attempted  Rebounds  Assists  Steals  Blocks  Turnovers  \\\n",
            "0                     8.0       8.0      5.0     3.0     1.0        1.0   \n",
            "1                     4.0       6.0      0.0     0.0     2.0        2.0   \n",
            "2                     9.0      10.0      0.0     0.0     0.0        3.0   \n",
            "3                     3.0       3.0      1.0     1.0     0.0        1.0   \n",
            "4                     6.0       6.0      9.0     1.0     0.0        5.0   \n",
            "5                     7.0      10.0      1.0     3.0     2.0        1.0   \n",
            "6                     1.0       1.0      3.0     3.0     0.0        0.0   \n",
            "7                     0.0       0.0      1.0     0.0     0.0        0.0   \n",
            "8                     2.0       2.0      1.0     1.0     0.0        1.0   \n",
            "9                     0.0       0.0      0.0     0.0     0.0        0.0   \n",
            "10                    0.0       0.0      0.0     0.0     0.0        0.0   \n",
            "11                    0.0       0.0      0.0     0.0     0.0        0.0   \n",
            "12                    0.0       0.0      0.0     0.0     0.0        0.0   \n",
            "\n",
            "    Personel Fouls  Points  Players Impact  \n",
            "0              1.0    15.0             5.0  \n",
            "1              6.0    14.0            10.0  \n",
            "2              4.0    15.0            14.0  \n",
            "3              4.0    12.0            20.0  \n",
            "4              0.0    14.0            17.0  \n",
            "5              1.0    11.0            -7.0  \n",
            "6              1.0     5.0           -10.0  \n",
            "7              0.0    16.0            -5.0  \n",
            "8              2.0    11.0             1.0  \n",
            "9              0.0     0.0             0.0  \n",
            "10             0.0     0.0             0.0  \n",
            "11             0.0     0.0             0.0  \n",
            "12             0.0     0.0             0.0  \n"
          ]
        }
      ],
      "source": [
        "#dnp means did not play in that season so we should equal their values to zero\n",
        "df1 = df1.loc[:,\"Minutes\":].fillna(0)\n",
        "print(df1.head(13))"
      ]
    },
    {
      "cell_type": "code",
      "execution_count": 6,
      "metadata": {},
      "outputs": [
        {
          "name": "stdout",
          "output_type": "stream",
          "text": [
            "0           18729.0\n",
            "1           18624.0\n",
            "2     not available\n",
            "3           21711.0\n",
            "4           19200.0\n",
            "5           19099.0\n",
            "6           18104.0\n",
            "7           19060.0\n",
            "8           19060.0\n",
            "9           19600.0\n",
            "10          17500.0\n",
            "11          19356.0\n",
            "12    not available\n",
            "13          19763.0\n",
            "14    not available\n",
            "15          18345.0\n",
            "16    not available\n",
            "17    not available\n",
            "18          19980.0\n",
            "19          17500.0\n",
            "20          18694.0\n",
            "21          19163.0\n",
            "22          19800.0\n",
            "23          20148.0\n",
            "24          18119.0\n",
            "25          20647.0\n",
            "26          21000.0\n",
            "27          19026.0\n",
            "28          20562.0\n",
            "29          19596.0\n",
            "Name: ARENACAPACITY, dtype: object\n"
          ]
        }
      ],
      "source": [
        "#detecting that arena capaticy is none in some cases and changing them with \"not available\"\n",
        "df5['ARENACAPACITY'] = df5['ARENACAPACITY'].fillna(0)\n",
        "for capacity in df5[\"ARENACAPACITY\"]:\n",
        "    if capacity == False:\n",
        "        df5[\"ARENACAPACITY\"] = df5[\"ARENACAPACITY\"].replace(capacity, \"not available\")\n",
        "print(df5.ARENACAPACITY)"
      ]
    },
    {
      "cell_type": "code",
      "execution_count": 7,
      "metadata": {},
      "outputs": [],
      "source": [
        "#changing empty cells in player impact to no data \n",
        "df1[\"Players Impact\"] = df1[\"Players Impact\"].fillna(\"no data\")"
      ]
    },
    {
      "cell_type": "markdown",
      "metadata": {},
      "source": [
        "**Analyzing**"
      ]
    },
    {
      "cell_type": "code",
      "execution_count": 8,
      "metadata": {},
      "outputs": [
        {
          "name": "stdout",
          "output_type": "stream",
          "text": [
            "Average of the arena capacity is 19295.44. There are 14 low capacity arenas and 11 arenas that have enough capacity.\n"
          ]
        }
      ],
      "source": [
        "#calculating the mean of the arena capacity and analyzing how many of them are low and enough according to the average\n",
        "capacity_list = []\n",
        "low_capacity = 0\n",
        "enough_capacity = 0\n",
        "for capacity in df5[\"ARENACAPACITY\"]:\n",
        "    if type(capacity) == float:\n",
        "            capacity_list.append(capacity)\n",
        "mean = np.mean(capacity_list)\n",
        "\n",
        "for capacity in df5[\"ARENACAPACITY\"]:\n",
        "        if type(capacity) == float:\n",
        "            if capacity < mean:\n",
        "                low_capacity += 1\n",
        "            else:\n",
        "                enough_capacity += 1 \n",
        "\n",
        "print(f\"Average of the arena capacity is {mean}. There are {low_capacity} low capacity arenas and {enough_capacity} arenas that have enough capacity.\")"
      ]
    },
    {
      "cell_type": "code",
      "execution_count": 13,
      "metadata": {},
      "outputs": [
        {
          "name": "stdout",
          "output_type": "stream",
          "text": [
            "\n",
            "Number of players that are equal to or above the mean impact:\n",
            "\n",
            " TEAM_CITY                  TEAM_CODE\n",
            "Atlanta                    ATL           8562\n",
            "Boston                     BOS          10039\n",
            "Brooklyn                   BKN           4464\n",
            "Charlotte                  CHA           7039\n",
            "Chicago                    CHI           8481\n",
            "Cleveland                  CLE           8853\n",
            "Dallas                     DAL           9782\n",
            "Denver                     DEN           9307\n",
            "Detroit                    DET           8575\n",
            "Golden State               GSW           9642\n",
            "Houston                    HOU           9064\n",
            "Indiana                    IND           9088\n",
            "LA                         LAC           3737\n",
            "Los Angeles                LAL           9162\n",
            "                           LAC           5116\n",
            "Memphis                    MEM           8712\n",
            "Miami                      MIA           9715\n",
            "Milwaukee                  MIL           8521\n",
            "Minnesota                  MIN           7499\n",
            "New Jersey                 NJN           3531\n",
            "New Orleans                NOP           3821\n",
            "                           NOH           3291\n",
            "New Orleans/Oklahoma City  NOK            793\n",
            "New York                   NYK           7347\n",
            "Oklahoma City              OKC           7143\n",
            "Orlando                    ORL           8171\n",
            "Philadelphia               PHI           7994\n",
            "Phoenix                    PHX           8477\n",
            "Portland                   POR           8380\n",
            "Sacramento                 SAC           7304\n",
            "San Antonio                SAS          11656\n",
            "Seattle                    SEA           1999\n",
            "Toronto                    TOR           9031\n",
            "Utah                       UTA           9288\n",
            "Washington                 WAS           8024\n",
            "Name: TEAM_CODE, dtype: int64\n"
          ]
        }
      ],
      "source": [
        "#places that games take place\n",
        "#create a dict that stores the id and the city \n",
        "place_dict = dict([(i, TEAM_CITY) for i, TEAM_CITY in zip(df1.TEAM_ID, df1.TEAM_CITY)])\n",
        "\n",
        "#creating a new column stores place of the games\n",
        "df2['Place of Game'] = df2['HOME_TEAM_ID'].map(place_dict)\n",
        "\n",
        "#finding the mean of player impact and show the equal or above players' number in teams and city\n",
        "average_impact = np.mean(df1[\"Players Impact\"])\n",
        "above_average = df1[(df1[\"Players Impact\"] > average_impact) | (df1[\"Players Impact\"] == average_impact)]\n",
        "df_above = pd.DataFrame(above_average)  \n",
        "print(\"\\nNumber of players that are equal to or above the mean impact:\\n\\n\", df_above.groupby(\"TEAM_CITY\")[\"TEAM_CODE\"].value_counts())"
      ]
    },
    {
      "cell_type": "code",
      "execution_count": 14,
      "metadata": {},
      "outputs": [
        {
          "name": "stdout",
          "output_type": "stream",
          "text": [
            "The team that has the players with highest impact is San Antonio and the team which has the players with lowest impact is New Orleans\n"
          ]
        },
        {
          "data": {
            "image/png": "[encoded data removed]",
            "text/plain": [
              "<Figure size 432x288 with 1 Axes>"
            ]
          },
          "metadata": {
            "needs_background": "light"
          },
          "output_type": "display_data"
        }
      ],
      "source": [
        "(df_above.groupby(\"TEAM_CITY\")[\"TEAM_CODE\"]\n",
        ".value_counts()\n",
        ".plot\n",
        ".bar()\n",
        ".set_title(\"Above Average Impact Players According to Team City & Team Code\"))\n",
        "\n",
        "print(\"The team that has the players with highest impact is San Antonio and the team which has the players with lowest impact is New Orleans\")"
      ]
    },
    {
      "cell_type": "code",
      "execution_count": 15,
      "metadata": {},
      "outputs": [
        {
          "data": {
            "text/html": [
              "<div>\n",
              "<style scoped>\n",
              "    .dataframe tbody tr th:only-of-type {\n",
              "        vertical-align: middle;\n",
              "    }\n",
              "\n",
              "    .dataframe tbody tr th {\n",
              "        vertical-align: top;\n",
              "    }\n",
              "\n",
              "    .dataframe thead th {\n",
              "        text-align: right;\n",
              "    }\n",
              "</style>\n",
              "<table border=\"1\" class=\"dataframe\">\n",
              "  <thead>\n",
              "    <tr style=\"text-align: right;\">\n",
              "      <th></th>\n",
              "      <th>GAME_ID</th>\n",
              "      <th>TEAM_ID</th>\n",
              "      <th>TEAM_CODE</th>\n",
              "      <th>TEAM_CITY</th>\n",
              "      <th>PLAYER_ID</th>\n",
              "      <th>PLAYER_NAME</th>\n",
              "      <th>Nickname</th>\n",
              "      <th>Starting Position</th>\n",
              "      <th>Comment</th>\n",
              "      <th>Minutes</th>\n",
              "      <th>...</th>\n",
              "      <th>Field Goals Attempted</th>\n",
              "      <th>Rebounds</th>\n",
              "      <th>Assists</th>\n",
              "      <th>Steals</th>\n",
              "      <th>Blocks</th>\n",
              "      <th>Turnovers</th>\n",
              "      <th>Personel Fouls</th>\n",
              "      <th>Points</th>\n",
              "      <th>Players Impact</th>\n",
              "      <th>Impact Category</th>\n",
              "    </tr>\n",
              "  </thead>\n",
              "  <tbody>\n",
              "    <tr>\n",
              "      <th>0</th>\n",
              "      <td>22101005</td>\n",
              "      <td>1610612750</td>\n",
              "      <td>MIN</td>\n",
              "      <td>Minnesota</td>\n",
              "      <td>1630162</td>\n",
              "      <td>Anthony Edwards</td>\n",
              "      <td>Anthony</td>\n",
              "      <td>F</td>\n",
              "      <td>NaN</td>\n",
              "      <td>36:22</td>\n",
              "      <td>...</td>\n",
              "      <td>8.0</td>\n",
              "      <td>8.0</td>\n",
              "      <td>5.0</td>\n",
              "      <td>3.0</td>\n",
              "      <td>1.0</td>\n",
              "      <td>1.0</td>\n",
              "      <td>1.0</td>\n",
              "      <td>15.0</td>\n",
              "      <td>5.0</td>\n",
              "      <td>Good</td>\n",
              "    </tr>\n",
              "    <tr>\n",
              "      <th>1</th>\n",
              "      <td>22101005</td>\n",
              "      <td>1610612750</td>\n",
              "      <td>MIN</td>\n",
              "      <td>Minnesota</td>\n",
              "      <td>1630183</td>\n",
              "      <td>Jaden McDaniels</td>\n",
              "      <td>Jaden</td>\n",
              "      <td>F</td>\n",
              "      <td>NaN</td>\n",
              "      <td>23:54</td>\n",
              "      <td>...</td>\n",
              "      <td>4.0</td>\n",
              "      <td>6.0</td>\n",
              "      <td>0.0</td>\n",
              "      <td>0.0</td>\n",
              "      <td>2.0</td>\n",
              "      <td>2.0</td>\n",
              "      <td>6.0</td>\n",
              "      <td>14.0</td>\n",
              "      <td>10.0</td>\n",
              "      <td>Good</td>\n",
              "    </tr>\n",
              "    <tr>\n",
              "      <th>2</th>\n",
              "      <td>22101005</td>\n",
              "      <td>1610612750</td>\n",
              "      <td>MIN</td>\n",
              "      <td>Minnesota</td>\n",
              "      <td>1626157</td>\n",
              "      <td>Karl-Anthony Towns</td>\n",
              "      <td>Karl-Anthony</td>\n",
              "      <td>C</td>\n",
              "      <td>NaN</td>\n",
              "      <td>25:17</td>\n",
              "      <td>...</td>\n",
              "      <td>9.0</td>\n",
              "      <td>10.0</td>\n",
              "      <td>0.0</td>\n",
              "      <td>0.0</td>\n",
              "      <td>0.0</td>\n",
              "      <td>3.0</td>\n",
              "      <td>4.0</td>\n",
              "      <td>15.0</td>\n",
              "      <td>14.0</td>\n",
              "      <td>Good</td>\n",
              "    </tr>\n",
              "    <tr>\n",
              "      <th>3</th>\n",
              "      <td>22101005</td>\n",
              "      <td>1610612750</td>\n",
              "      <td>MIN</td>\n",
              "      <td>Minnesota</td>\n",
              "      <td>1627736</td>\n",
              "      <td>Malik Beasley</td>\n",
              "      <td>Malik</td>\n",
              "      <td>G</td>\n",
              "      <td>NaN</td>\n",
              "      <td>30:52</td>\n",
              "      <td>...</td>\n",
              "      <td>3.0</td>\n",
              "      <td>3.0</td>\n",
              "      <td>1.0</td>\n",
              "      <td>1.0</td>\n",
              "      <td>0.0</td>\n",
              "      <td>1.0</td>\n",
              "      <td>4.0</td>\n",
              "      <td>12.0</td>\n",
              "      <td>20.0</td>\n",
              "      <td>Good</td>\n",
              "    </tr>\n",
              "    <tr>\n",
              "      <th>4</th>\n",
              "      <td>22101005</td>\n",
              "      <td>1610612750</td>\n",
              "      <td>MIN</td>\n",
              "      <td>Minnesota</td>\n",
              "      <td>1626156</td>\n",
              "      <td>D'Angelo Russell</td>\n",
              "      <td>D'Angelo</td>\n",
              "      <td>G</td>\n",
              "      <td>NaN</td>\n",
              "      <td>33:46</td>\n",
              "      <td>...</td>\n",
              "      <td>6.0</td>\n",
              "      <td>6.0</td>\n",
              "      <td>9.0</td>\n",
              "      <td>1.0</td>\n",
              "      <td>0.0</td>\n",
              "      <td>5.0</td>\n",
              "      <td>0.0</td>\n",
              "      <td>14.0</td>\n",
              "      <td>17.0</td>\n",
              "      <td>Good</td>\n",
              "    </tr>\n",
              "  </tbody>\n",
              "</table>\n",
              "<p>5 rows × 30 columns</p>\n",
              "</div>"
            ],
            "text/plain": [
              "    GAME_ID     TEAM_ID TEAM_CODE  TEAM_CITY  PLAYER_ID         PLAYER_NAME  \\\n",
              "0  22101005  1610612750       MIN  Minnesota    1630162     Anthony Edwards   \n",
              "1  22101005  1610612750       MIN  Minnesota    1630183     Jaden McDaniels   \n",
              "2  22101005  1610612750       MIN  Minnesota    1626157  Karl-Anthony Towns   \n",
              "3  22101005  1610612750       MIN  Minnesota    1627736       Malik Beasley   \n",
              "4  22101005  1610612750       MIN  Minnesota    1626156    D'Angelo Russell   \n",
              "\n",
              "       Nickname Starting Position Comment Minutes  ...  Field Goals Attempted  \\\n",
              "0       Anthony                 F     NaN   36:22  ...                    8.0   \n",
              "1         Jaden                 F     NaN   23:54  ...                    4.0   \n",
              "2  Karl-Anthony                 C     NaN   25:17  ...                    9.0   \n",
              "3         Malik                 G     NaN   30:52  ...                    3.0   \n",
              "4      D'Angelo                 G     NaN   33:46  ...                    6.0   \n",
              "\n",
              "   Rebounds  Assists  Steals  Blocks  Turnovers  Personel Fouls  Points  \\\n",
              "0       8.0      5.0     3.0     1.0        1.0             1.0    15.0   \n",
              "1       6.0      0.0     0.0     2.0        2.0             6.0    14.0   \n",
              "2      10.0      0.0     0.0     0.0        3.0             4.0    15.0   \n",
              "3       3.0      1.0     1.0     0.0        1.0             4.0    12.0   \n",
              "4       6.0      9.0     1.0     0.0        5.0             0.0    14.0   \n",
              "\n",
              "   Players Impact  Impact Category  \n",
              "0             5.0             Good  \n",
              "1            10.0             Good  \n",
              "2            14.0             Good  \n",
              "3            20.0             Good  \n",
              "4            17.0             Good  \n",
              "\n",
              "[5 rows x 30 columns]"
            ]
          },
          "execution_count": 15,
          "metadata": {},
          "output_type": "execute_result"
        }
      ],
      "source": [
        "# adding a new column according to player impact a good +/- typically sits between 2 and 8. Anything between 2 and 0 is an ok player, 0 is an average player, and those who dip lower than that are generally mediocre\n",
        "def player_impact(rate):\n",
        "    if type(rate) == float or type(rate) == int:\n",
        "        if rate >= 2:\n",
        "            return \"Good\"\n",
        "        elif rate < 2 or rate > 0:\n",
        "            return \"Normal\"\n",
        "        elif rate == 0:\n",
        "            return \"Average\"\n",
        "        else:\n",
        "            return \"Bad\"\n",
        "    else: \n",
        "        return \"no data\"\n",
        "df1[\"Impact Category\"] = df1[\"Players Impact\"].apply(player_impact)\n",
        "\n",
        "df1.head()\n",
        "#df1.tail() \n"
      ]
    },
    {
      "cell_type": "code",
      "execution_count": 16,
      "metadata": {},
      "outputs": [
        {
          "data": {
            "image/png": "[encoded data removed]",
            "text/plain": [
              "<Figure size 432x288 with 1 Axes>"
            ]
          },
          "metadata": {
            "needs_background": "light"
          },
          "output_type": "display_data"
        },
        {
          "name": "stdout",
          "output_type": "stream",
          "text": [
            "Impact of the players are equally distributed below and above 0.\n"
          ]
        }
      ],
      "source": [
        "#finding the distribution of players impact in total.\n",
        "impact = df1[\"Players Impact\"]\n",
        "plt.hist(impact)\n",
        "plt.show()\n",
        "\n",
        "print(\"Impact of the players are equally distributed below and above 0.\")"
      ]
    },
    {
      "cell_type": "code",
      "execution_count": 17,
      "metadata": {},
      "outputs": [
        {
          "name": "stdout",
          "output_type": "stream",
          "text": [
            "Player with best score regarding all seasons is Kobe Bryant.\n"
          ]
        }
      ],
      "source": [
        "#finding the best scored player in all seasons.\n",
        "highest_score =df1[df1[\"Impact Category\"] == \"Good\"].sort_values(\"Points\", ascending=False).head(1)\n",
        "highest_score\n",
        "\n",
        "name = list(highest_score[\"PLAYER_NAME\"])[0]\n",
        "print(f\"Player with best score regarding all seasons is {name}.\")"
      ]
    },
    {
      "cell_type": "code",
      "execution_count": 18,
      "metadata": {},
      "outputs": [
        {
          "data": {
            "text/plain": [
              "<AxesSubplot:xlabel='Season'>"
            ]
          },
          "execution_count": 18,
          "metadata": {},
          "output_type": "execute_result"
        },
        {
          "data": {
            "image/png": "[encoded data removed]",
            "text/plain": [
              "<Figure size 432x288 with 1 Axes>"
            ]
          },
          "metadata": {
            "needs_background": "light"
          },
          "output_type": "display_data"
        }
      ],
      "source": [
        "#finding the best impact player's other scores \n",
        "import datetime\n",
        "df2['Year'] = pd.DatetimeIndex(df2['GAME_DATE_EST']).year\n",
        "date_dict = df2.groupby(\"GAME_ID\")[\"Year\"].agg(list).to_dict()\n",
        "df1[\"Season\"]= df1[\"GAME_ID\"].map(date_dict)\n",
        "\n",
        "high_scores =df1[df1[\"Impact Category\"] == \"Good\"].sort_values(\"Points\", ascending=False).head(15)\n",
        "best = high_scores[high_scores[\"PLAYER_NAME\"]==name]\n",
        "best.plot(\"Season\",  \"Points\")"
      ]
    },
    {
      "cell_type": "code",
      "execution_count": 19,
      "metadata": {},
      "outputs": [
        {
          "name": "stdout",
          "output_type": "stream",
          "text": [
            "Best team that has the highest winning score in latest year is Phoenix.\n"
          ]
        }
      ],
      "source": [
        "#finding the team that has the highist winning score in latest year in data\n",
        "import datetime\n",
        "df4['Year'] = pd.DatetimeIndex(df4['STANDINGSDATE']).year\n",
        "highest_win = df4[df4['Year']==max(df4['Year'])].sort_values(\"W_PCT\", ascending=False).head(1)\n",
        "team = list(highest_win.TEAM)[0]\n",
        "print(f\"Best team that has the highest winning score in latest year is {team}.\")"
      ]
    },
    {
      "cell_type": "code",
      "execution_count": 23,
      "metadata": {},
      "outputs": [
        {
          "data": {
            "image/png": "[encoded data removed]",
            "text/plain": [
              "<Figure size 432x288 with 1 Axes>"
            ]
          },
          "metadata": {},
          "output_type": "display_data"
        },
        {
          "name": "stdout",
          "output_type": "stream",
          "text": [
            "If the match takes place on teams' own arena, the winning rate is 59% while the losing rate is 41%. It can be said that the fact that the match takes place on teams own arena has a positive effect for the teams' scores.\n"
          ]
        }
      ],
      "source": [
        "#comparing the win and lose scores in home arena \n",
        "home_win = 0\n",
        "total =  0\n",
        "for i in df2.HOME_TEAM_WINS:\n",
        "    total += 1\n",
        "    if i == True:\n",
        "        home_win += 1\n",
        "home_win_pct = round(100 * home_win / total)\n",
        "home_lose = total - home_win\n",
        "home_lose_pct = round(100 * home_lose / total)\n",
        "\n",
        "percent = [home_win_pct, home_lose_pct]\n",
        "label = [\"Home win percentage\", \"Home lose percentage\"]\n",
        "fig, ax = plt.subplots()\n",
        "ax.pie(percent, labels = label, autopct='%.0f%%')\n",
        "ax.set_title('Percentages of Win Scores')\n",
        "fig.set_facecolor('white')\n",
        "plt.show()\n",
        "\n",
        "print(f\"If the match takes place on teams' own arena, the winning rate is {home_win_pct}% while the losing rate is {home_lose_pct}%. It can be said that the fact that the match takes place on teams own arena has a positive effect for the teams' scores.\")"
      ]
    },
    {
      "cell_type": "code",
      "execution_count": 22,
      "metadata": {},
      "outputs": [
        {
          "data": {
            "text/plain": [
              "Text(0, 0.5, 'Winning Percentages')"
            ]
          },
          "execution_count": 22,
          "metadata": {},
          "output_type": "execute_result"
        },
        {
          "data": {
            "image/png": "[encoded data removed]",
            "text/plain": [
              "<Figure size 432x288 with 1 Axes>"
            ]
          },
          "metadata": {
            "needs_background": "light"
          },
          "output_type": "display_data"
        }
      ],
      "source": [
        "#examining the winning percentages by grouping the teams\n",
        "teamwin_dict = df4.groupby(\"TEAM_ID\")[\"W_PCT\"].agg(list).to_dict()\n",
        "for i in teamwin_dict:\n",
        "    teamwin_dict[i] = np.mean(teamwin_dict[i])\n",
        "df5[\"Team_Win_Pct\"]= df5[\"TEAM_ID\"].map(teamwin_dict)\n",
        "\n",
        "teams = df5[\"ABBREVIATION\"].tolist()\n",
        "win_pct = df5[\"Team_Win_Pct\"].tolist()\n",
        "\n",
        "plotwin= pd.DataFrame({\n",
        "    \"winpct\":df5[\"Team_Win_Pct\"].tolist(),\n",
        "    }, \n",
        "    index=df5[\"ABBREVIATION\"].tolist()\n",
        ")\n",
        "plotwin.plot(kind=\"bar\")\n",
        "plt.title(\"Winning Percentages of Teams\")\n",
        "plt.xlabel(\"Team Abbreviation\")\n",
        "plt.ylabel(\"Winning Percentages\")\n"
      ]
    }
  ],
  "metadata": {
    "colab": {
      "name": "Lambda ile Kod Kolayda :).ipynb",
      "provenance": []
    },
    "kernelspec": {
      "display_name": "Python 3.9.7 ('base')",
      "language": "python",
      "name": "python3"
    },
    "language_info": {
      "codemirror_mode": {
        "name": "ipython",
        "version": 3
      },
      "file_extension": ".py",
      "mimetype": "text/x-python",
      "name": "python",
      "nbconvert_exporter": "python",
      "pygments_lexer": "ipython3",
      "version": "3.9.7"
    },
    "vscode": {
      "interpreter": {
        "hash": "5b7bcb5cad9bed29e3bc2556c968cd63ae79dbab1d37c4997008c560d2c4b0cc"
      }
    }
  },
  "nbformat": 4,
  "nbformat_minor": 0
}
